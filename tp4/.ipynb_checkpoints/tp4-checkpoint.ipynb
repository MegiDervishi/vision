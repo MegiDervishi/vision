{
 "cells": [
  {
   "cell_type": "markdown",
   "metadata": {},
   "source": [
    "# TP4 Neural Networks"
   ]
  },
  {
   "cell_type": "markdown",
   "metadata": {},
   "source": [
    "The architecture of this code is freely inspired from the torch and pytorch architectures, and some sample of code are re-used. It is however designed to be as concise as possible, not in any case for efficiency or flexibility (i.e. if you ever want to do Deep Learning out of this class, don't try to adapt this code, use an existing framework)"
   ]
  },
  {
   "cell_type": "markdown",
   "metadata": {},
   "source": [
    "## 0. A simple MLP implementation"
   ]
  },
  {
   "cell_type": "markdown",
   "metadata": {},
   "source": [
    "As always some useful imports:"
   ]
  },
  {
   "cell_type": "code",
   "execution_count": null,
   "metadata": {},
   "outputs": [],
   "source": [
    "import math\n",
    "import numpy as np\n",
    "import matplotlib.pyplot as plt \n",
    "plt.rcParams['image.cmap'] = 'gray' \n",
    "import scipy.ndimage as ndimage\n",
    "import scipy.optimize as optimize\n",
    "\n",
    "import os\n",
    "\n",
    "try:\n",
    "    # tqdm is a very useful library to monitor the progression of your loops\n",
    "    # (not necessary but handy)\n",
    "    from tqdm.notebook import tqdm\n",
    "except ImportError:\n",
    "    pass"
   ]
  },
  {
   "cell_type": "markdown",
   "metadata": {},
   "source": [
    "We will consider a Neural Network as a modular architecture, all layer and loss being a `Module`. We define the `Linear`, `ReLU` layers, necessary to implement a MLP, as well as a simple 2-layer MLP and the least square loss function, `LeastSquareCriterion`."
   ]
  },
  {
   "cell_type": "code",
   "execution_count": null,
   "metadata": {},
   "outputs": [],
   "source": [
    "class Module(object):\n",
    "    def __init__(self):\n",
    "        self.gradInput = None \n",
    "        self.output = None\n",
    "        \n",
    "    def forward(self, *input):\n",
    "        \"\"\"\n",
    "        Defines the computation performed at every call.\n",
    "        Should be overriden by all subclasses.\n",
    "        \"\"\"\n",
    "        raise NotImplementedError\n",
    "        \n",
    "    def backward(self, *input):\n",
    "        \"\"\"\n",
    "        Defines the computation performed at every call.\n",
    "        Should be overriden by all subclasses.\n",
    "        \"\"\"\n",
    "        raise NotImplementedError\n",
    "\n",
    "\n",
    "class LeastSquareCriterion(Module):\n",
    "    \"\"\"\n",
    "    This implementation of the least square loss assumes that the data comes as a 2-dimensional array\n",
    "    of size (batch_size, num_classes) and the labels as a vector of size (num_classes) \n",
    "    \"\"\"\n",
    "    def __init__(self, num_classes=10):\n",
    "        super(LeastSquareCriterion, self).__init__()\n",
    "        self.num_classes = num_classes\n",
    "    \n",
    "    def forward(self, x, labels):\n",
    "        target = np.zeros([x.shape[0], self.num_classes])\n",
    "        for i in range(x.shape[0]):\n",
    "            target[i, labels[i]] = 1\n",
    "        self.output = np.sum((target-x)**2, axis=1)\n",
    "        return np.mean(self.output)\n",
    "    \n",
    "    def backward(self, x, labels):\n",
    "        self.gradInput = x\n",
    "        for i in range(x.shape[0]):\n",
    "            self.gradInput[i, labels[i]] = x[i, labels[i]]-1\n",
    "        return self.gradInput\n",
    "    \n",
    "\n",
    "class Linear(Module):\n",
    "    \"\"\"\n",
    "    The input is supposed to have two dimensions (batch_size, in_features)\n",
    "    \"\"\"\n",
    "    def __init__(self, in_features, out_features, bias=True):\n",
    "        super(Linear, self).__init__()\n",
    "        self.in_features = in_features\n",
    "        self.out_features = out_features\n",
    "        \n",
    "        self.weight = (\n",
    "            math.sqrt(1. / (out_features*in_features)) * \n",
    "            np.random.randn(out_features, in_features)\n",
    "        )\n",
    "        self.bias = np.zeros(out_features)\n",
    "        \n",
    "        self.gradWeight = None\n",
    "        self.gradBias = None\n",
    "\n",
    "    def forward(self, x):\n",
    "        self.output = np.dot(x, self.weight.transpose()) + self.bias[None, :]\n",
    "        return self.output\n",
    "    \n",
    "    def backward(self, x, gradOutput):\n",
    "        self.gradInput = np.dot(gradOutput, self.weight)\n",
    "        self.gradWeight = np.dot(gradOutput.transpose(), x)\n",
    "        self.gradBias = np.sum(gradOutput, axis=0)\n",
    "        return self.gradInput\n",
    "    \n",
    "    def gradientStep(self, lr):\n",
    "        self.weight = self.weight - lr*self.gradWeight\n",
    "        self.bias = self.bias - lr*self.gradBias\n",
    "        \n",
    "\n",
    "class ReLU(Module):\n",
    "    def __init__(self, bias=True):\n",
    "        super(ReLU, self).__init__()\n",
    "        \n",
    "    def forward(self, x):\n",
    "        self.output = x.clip(0)\n",
    "        return self.output\n",
    "    \n",
    "    def backward(self, x, gradOutput):\n",
    "        self.gradInput = (x>0) * gradOutput\n",
    "        return self.gradInput\n",
    "\n",
    "\n",
    "class SimpleMLP(Module):\n",
    "    \"\"\"\n",
    "    This class is a simple example of a neural network, composed of two\n",
    "    linear layers, with a ReLU non-linearity in the middle\n",
    "    \"\"\"\n",
    "    def __init__(self, in_dimension=784, num_classes=10):\n",
    "        super(SimpleMLP, self).__init__()\n",
    "        self.fc1 = Linear(in_dimension, 64)\n",
    "        self.relu1 = ReLU()\n",
    "        self.fc2 = Linear(64, num_classes)\n",
    "    \n",
    "    def forward(self, x):\n",
    "        x = self.fc1.forward(x)\n",
    "        x = self.relu1.forward(x)\n",
    "        x = self.fc2.forward(x)\n",
    "        return x\n",
    "    \n",
    "    def backward(self, x, gradient):\n",
    "        gradient = self.fc2.backward(self.relu1.output, gradient)\n",
    "        gradient = self.relu1.backward(self.fc1.output, gradient)\n",
    "        gradient = self.fc1.backward(x, gradient)\n",
    "        return gradient\n",
    "    \n",
    "    def gradientStep(self, lr):\n",
    "        self.fc2.gradientStep(lr)\n",
    "        self.fc1.gradientStep(lr)\n",
    "        return True"
   ]
  },
  {
   "cell_type": "markdown",
   "metadata": {},
   "source": [
    "## 1. Training a neural network"
   ]
  },
  {
   "cell_type": "markdown",
   "metadata": {},
   "source": [
    "To train a network, we will need data. Download the Mini-MNIST data (on Moodle) (~4Mo). I consists of 28×28 images (loaded as vectors of size 784) and the associated label for training and test sets."
   ]
  },
  {
   "cell_type": "code",
   "execution_count": 2,
   "metadata": {},
   "outputs": [
    {
     "name": "stdout",
     "output_type": "stream",
     "text": [
      "5\n"
     ]
    },
    {
     "data": {
      "image/png": "[encoded data removed]",
      "text/plain": [
       "<Figure size 432x288 with 1 Axes>"
      ]
     },
     "metadata": {
      "needs_background": "light"
     },
     "output_type": "display_data"
    }
   ],
   "source": [
    "data = np.load(\"mini_mnist.npz\")\n",
    "\n",
    "train_data = data[\"train_data\"]\n",
    "train_labels = data[\"train_labels\"]\n",
    "test_data = data[\"test_data\"]\n",
    "test_labels = data[\"test_labels\"]\n",
    "\n",
    "N_train = train_data.shape[0]\n",
    "N_test = test_data.shape[0]\n",
    "\n",
    "# Check that data makes sense\n",
    "plt.figure()\n",
    "plt.imshow(train_data[0, :].reshape(28,28))\n",
    "print(train_labels[0])\n",
    "plt.show()"
   ]
  },
  {
   "cell_type": "markdown",
   "metadata": {},
   "source": [
    "Read and understand the code provided above"
   ]
  },
  {
   "cell_type": "markdown",
   "metadata": {},
   "source": [
    "**1.a.** Write a function `train_iter(model, loss, batch_data, batch_labels, lr)` that trains one iteration of a given `model` and `loss` (subclasses of `Module`) on a batch `(batch_data, batch_labels)` with a learning rate `lr`, and returns the training loss value. <br/>\n",
    "**b.** Test your function: write a simple loop that trains for 50 iterations a `SimpleMLP` on `train_data` with a learning rate `1e-3` and batches of size `16`.\n",
    "\n",
    "*Note: An **iteration** consists in running one batch through the model; an **epoch** consists in running multiple iterations so as to process each example of the training set once.*"
   ]
  },
  {
   "cell_type": "code",
   "execution_count": null,
   "metadata": {},
   "outputs": [],
   "source": [
    "# Your code"
   ]
  },
  {
   "cell_type": "markdown",
   "metadata": {
    "collapsed": true
   },
   "source": [
    "**2.a.** Write a function `evaluate(model, loss, data, labels)` that returns a couple `(loss, accuracy)` corresponding to the loss and accuracy computed on the whole `data`. <br/>\n",
    "**b.** Use your function to evaluate the model trained in question **1.b.** on the training and testing data. <br/> \n",
    "**c.** Check visually the quality of the results by plotting a few examples and their predictions."
   ]
  },
  {
   "cell_type": "markdown",
   "metadata": {
    "collapsed": true
   },
   "source": [
    "**3.** Write a loop that trains a `SimpleMLP` for a whole epoch with the same parameters as in question **1.a.**. Plot the training and testing losses and accuracies during this training. \n",
    "\n",
    "*Note: you don't have to evaluate your network at every iteration, you can for example do it every 10 iterations*"
   ]
  },
  {
   "cell_type": "markdown",
   "metadata": {},
   "source": [
    "**4.a.** Based on the previous questions, design a function \n",
    "\n",
    "<center><pre>train(model, loss, train_data, train_labels, test_data, test_labels, ...)</pre></center>\n",
    "\n",
    "that performs a full training of the input `model` on the training data. Choose the arguments of your function (for instance, `batch_size`, `lr`, `epochs`, etc) according to what seems relevant to you. This function should plot the training and validation losses and accuracies during training. <br/>\n",
    "**b.** Use your function to train a model with a good accuracy (decide for a learning rate, batch size...)"
   ]
  },
  {
   "cell_type": "markdown",
   "metadata": {},
   "source": [
    "## 2. Overfitting"
   ]
  },
  {
   "cell_type": "markdown",
   "metadata": {},
   "source": [
    "**1.** What's the number of parameters in the network `SimpleMLP` used in the first section?"
   ]
  },
  {
   "cell_type": "markdown",
   "metadata": {},
   "source": [
    "**2.a.** Modify the definition of `SimpleMLP` to allow changing the dimension of the hidden layer. <br/>\n",
    "**b.** Define a class `DoubleMLP` with three `Linear` layers, and parameters to change their dimensions. <br/>\n",
    "**c. (optional)** Define a class `DeepMLP` with a **list** parameter `hidden_features` that allows to vary the number of intermediate linear layers, and their dimensions:\n",
    "\n",
    "- `DeepMLP([64])` should be equivalent to `SimpleMLP()`;\n",
    "- `DeepMLP([64, 64, 64])` should be a MLP with four linear layers...\n",
    "\n",
    "**d.** Test your new classes: train a `DoubleMLP(64, 32)` and plot its performance"
   ]
  },
  {
   "cell_type": "markdown",
   "metadata": {},
   "source": [
    "Test different sizes of networks and layers. <br/> \n",
    "**3.a.** Find a set of parameters and hyperparameters that shows strong evidence of overfitting. <br/>\n",
    "**b.** What's the number of parameters of this network? Why does it overfit?"
   ]
  },
  {
   "cell_type": "markdown",
   "metadata": {},
   "source": [
    "**4.** Add to `Linear` and one of your MLP classes an optional parameter for (L2) weight decay (in the `gradientStep` functions) and show that it can reduce overfitting in some cases.\n",
    "\n",
    "*(Note: improving the validation performance may be hard; you can look at a setting with only very little training data to see, and focus on showing that the gap between training and validation performance decreases)*"
   ]
  },
  {
   "cell_type": "markdown",
   "metadata": {},
   "source": [
    "## 3. Optional"
   ]
  },
  {
   "cell_type": "markdown",
   "metadata": {},
   "source": [
    "The following questions are optional and do not have a specific order! A limited number of bonus points can be granted on completing them."
   ]
  },
  {
   "cell_type": "markdown",
   "metadata": {},
   "source": [
    "**1.** Implement and test different non-linearities"
   ]
  },
  {
   "cell_type": "markdown",
   "metadata": {},
   "source": [
    "**2.** Implement and test different loss functions (L1, Cross-Entropy)"
   ]
  },
  {
   "cell_type": "markdown",
   "metadata": {},
   "source": [
    "**3.** Add some momentum to your training procedure. How does it change the training behavior?"
   ]
  },
  {
   "cell_type": "markdown",
   "metadata": {},
   "source": [
    "**4.** (longer/harder) Implement and test layers that consider the 2D structure of the input data (max pooling, convolution)"
   ]
  }
 ],
 "metadata": {
  "kernelspec": {
   "display_name": "Python 3",
   "language": "python",
   "name": "python3"
  },
  "language_info": {
   "codemirror_mode": {
    "name": "ipython",
    "version": 3
   },
   "file_extension": ".py",
   "mimetype": "text/x-python",
   "name": "python",
   "nbconvert_exporter": "python",
   "pygments_lexer": "ipython3",
   "version": "3.6.4"
  }
 },
 "nbformat": 4,
 "nbformat_minor": 2
}
