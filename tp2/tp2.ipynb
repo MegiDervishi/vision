{
 "cells": [
  {
   "cell_type": "markdown",
   "metadata": {},
   "source": [
    "# TP2: Camera Calibration"
   ]
  },
  {
   "cell_type": "markdown",
   "metadata": {},
   "source": [
    "Read, understand, and complete and run the following notebook. You must return the completed notebook, including your answers and illustrations (you may need to add cells to write your code or comments). \n",
    "\n",
    "To execute a notebook, you will need to [install jupyter](http://jupyter.org/install.html). If you cannot/don't want to use notebooks, you can return both your python code and a report in pdf."
   ]
  },
  {
   "cell_type": "code",
   "execution_count": 3,
   "metadata": {},
   "outputs": [],
   "source": [
    "# See TP1 for information about those imports\n",
    "import numpy as np \n",
    "import matplotlib.pyplot as plt \n",
    "import scipy.ndimage as ndimage\n",
    "plt.rcParams['image.cmap'] = 'gray' \n",
    "\n",
    "# Useful for loading mat files\n",
    "import scipy.io as sio\n",
    "\n",
    "# Useful for optimization\n",
    "import scipy.optimize as optimize"
   ]
  },
  {
   "cell_type": "markdown",
   "metadata": {},
   "source": [
    "Download the [data](http://imagine.enpc.fr/~aubrym/lectures/introvis17/clean_points.mat ). Load the data:"
   ]
  },
  {
   "cell_type": "code",
   "execution_count": 4,
   "metadata": {},
   "outputs": [],
   "source": [
    "data = sio.loadmat('clean_points.mat')\n",
    "pts2d = data['pts2d']\n",
    "pts3d = data['pts3d']"
   ]
  },
  {
   "cell_type": "markdown",
   "metadata": {},
   "source": [
    "`pts2d` and `pts3d` are two vector of corresponding points in the image and in 3D. We will use these correspondences to calibrate the camera."
   ]
  },
  {
   "cell_type": "markdown",
   "metadata": {},
   "source": [
    "### Linear Method"
   ]
  },
  {
   "cell_type": "markdown",
   "metadata": {},
   "source": [
    "We first try to perform camera calibration using the linear method. From the lecture, we know that it ideally solves an equation ($\\mathbf 0$ being a vector, and $\\mathbf p$ a vector representation of the camera matrix)\n",
    "\n",
    "$$A \\mathbf p = \\mathbf 0$$\n",
    "\n",
    "**1.** Build the matrix `A` that defines this calibration equation. What are its dimensions?"
   ]
  },
  {
   "cell_type": "code",
   "execution_count": null,
   "metadata": {},
   "outputs": [],
   "source": [
    "# Write your code here\n"
   ]
  },
  {
   "cell_type": "markdown",
   "metadata": {},
   "source": [
    "**2.a)** Perform SVD (using `np.linalg.svd`) on `A` <br/>\n",
    "**b)** Check that the SVD is coherent and that one of the singular value is close to $0$ <br/>\n",
    "**c)** Use this SVD to compute the camera matrix `P`."
   ]
  },
  {
   "cell_type": "markdown",
   "metadata": {},
   "source": [
    "**3.** Write a function `projection_error(P, pts3d, pts2d)` that computes the measurement error (Mean Squared Error) between the 3D points projected with a matrix `P`, and the 2D points."
   ]
  },
  {
   "cell_type": "markdown",
   "metadata": {},
   "source": [
    "**4.** Visualize the projected 3D points and the 2D points on the same figure (use `plt.scatter` with different `marker` options)"
   ]
  },
  {
   "cell_type": "markdown",
   "metadata": {},
   "source": [
    "### Camera parameters\n",
    "\n",
    "We want to extract the parameters of the camera from the matrix `P`, *i.e.* the internal $(3\\times 3)$ calibration matrix $\\mathcal K$, the external $(3\\times 3)$ rotation matrix $R$ and the $(3\\times 1)$ translation vector $\\mathbf t$ so that:\n",
    "\n",
    "$$P=\\mathcal K [R | \\mathbf t]$$\n",
    "\n",
    "To do so, we are going to follow the formulas from the lectures (starting around slide 73), and the numpy functions (`np.linalg.norm`, `np.linalg.inv`, `np.dot`, `np.cross`...)\n",
    "\n",
    "**5.a)** Write a function `camera_parameters(P, eps=1)` that takes as input the camera matrix `P` and a sign `eps` ($\\varepsilon$, the sign of $\\rho$ in the equations from the lecture), and outputs three values `K`, `R` and `t` that correspond to the intrinsic and extrinsic parameters of the camera. <br/>\n",
    "**b)** Display the results for `eps=1` and check that your values `(K, R, t)` can correctly reconstruct `P`."
   ]
  },
  {
   "cell_type": "markdown",
   "metadata": {},
   "source": [
    "**6.** The sign of $\\rho$ is not easy to decide a priori: test your function with both choices of `eps`, and comment on which option makes sense (is the object in front of the camera?)"
   ]
  },
  {
   "cell_type": "markdown",
   "metadata": {
    "collapsed": true
   },
   "source": [
    "### Non linear method\n",
    "\n",
    "**7.a)** Improve the estimate of the camera matrix using non linear least square: use `projection_error` from **3.** and `optimize.leastsq` which implements a variant of Levenberg-Marquardt (read the documentation to use it in a sensible way). <br/>\n",
    "**b)** Compare the reprojection error before and after the optimization."
   ]
  }
 ],
 "metadata": {
  "kernelspec": {
   "display_name": "Python 3",
   "language": "python",
   "name": "python3"
  },
  "language_info": {
   "codemirror_mode": {
    "name": "ipython",
    "version": 3
   },
   "file_extension": ".py",
   "mimetype": "text/x-python",
   "name": "python",
   "nbconvert_exporter": "python",
   "pygments_lexer": "ipython3",
   "version": "3.6.4"
  }
 },
 "nbformat": 4,
 "nbformat_minor": 1
}
